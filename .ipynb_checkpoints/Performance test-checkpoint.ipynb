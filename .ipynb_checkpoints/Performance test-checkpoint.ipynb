{
 "cells": [
  {
   "cell_type": "code",
   "execution_count": null,
   "id": "6b162b10",
   "metadata": {},
   "outputs": [],
   "source": []
  },
  {
   "cell_type": "code",
   "execution_count": 18,
   "id": "1f9a2f6c",
   "metadata": {},
   "outputs": [],
   "source": [
    "from utils import load_dataset\n",
    "import numpy as np"
   ]
  },
  {
   "cell_type": "markdown",
   "id": "c786c9bc",
   "metadata": {},
   "source": [
    "### Load training subset, image paths from validation subset and labels for all images"
   ]
  },
  {
   "cell_type": "code",
   "execution_count": 5,
   "id": "80047553",
   "metadata": {},
   "outputs": [],
   "source": [
    "training = load_dataset('training_subset')\n",
    "validation = load_dataset('validation_paths')\n",
    "labels = load_dataset('image_labels')"
   ]
  },
  {
   "cell_type": "markdown",
   "id": "36b5fa08",
   "metadata": {},
   "source": [
    "### Define calibration matrices"
   ]
  },
  {
   "cell_type": "code",
   "execution_count": 32,
   "id": "ad052676",
   "metadata": {},
   "outputs": [
    {
     "data": {
      "text/plain": [
       "array([[453.66147142,   0.        , 340.        ],\n",
       "       [  0.        , 490.32196759, 245.        ],\n",
       "       [  0.        ,   0.        ,   1.        ]])"
      ]
     },
     "execution_count": 32,
     "metadata": {},
     "output_type": "execute_result"
    }
   ],
   "source": [
    "# Camera's fields of view\n",
    "H_FoV = 73.7\n",
    "V_FoV = 53.1\n",
    "\n",
    "# Images' width and height\n",
    "W = 680\n",
    "H = 490\n",
    "\n",
    "# Horizontal and vertical focal lengths\n",
    "fx = (W / 2) / np.tan((H_FoV*np.pi/180) / 2)\n",
    "fy = (H / 2) / np.tan((V_FoV*np.pi/180) / 2)\n",
    "\n",
    "K = np.array([[fx, 0, W/2], [0, fy, H/2], [0, 0, 1]])"
   ]
  },
  {
   "cell_type": "code",
   "execution_count": null,
   "id": "c6b082ef",
   "metadata": {},
   "outputs": [],
   "source": []
  }
 ],
 "metadata": {
  "kernelspec": {
   "display_name": "Python 3 (ipykernel)",
   "language": "python",
   "name": "python3"
  },
  "language_info": {
   "codemirror_mode": {
    "name": "ipython",
    "version": 3
   },
   "file_extension": ".py",
   "mimetype": "text/x-python",
   "name": "python",
   "nbconvert_exporter": "python",
   "pygments_lexer": "ipython3",
   "version": "3.8.5"
  }
 },
 "nbformat": 4,
 "nbformat_minor": 5
}
